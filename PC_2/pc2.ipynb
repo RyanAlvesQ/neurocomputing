{
 "cells": [
  {
   "cell_type": "code",
   "execution_count": 3,
   "id": "66f090ed",
   "metadata": {},
   "outputs": [
    {
     "name": "stdout",
     "output_type": "stream",
     "text": [
      "Collecting numpy\n",
      "  Using cached numpy-2.3.1-cp312-cp312-manylinux_2_28_x86_64.whl.metadata (62 kB)\n",
      "Using cached numpy-2.3.1-cp312-cp312-manylinux_2_28_x86_64.whl (16.6 MB)\n",
      "Installing collected packages: numpy\n",
      "Successfully installed numpy-2.3.1\n"
     ]
    }
   ],
   "source": [
    "# Implemente, utilizando a linguagem de programação Python ou JavaScript, uma\n",
    "# rede neural que resolva o problema do AND lógico. Seu programa não precisa\n",
    "# efetuar nenhum processo de aprendizagem e pode utilizar pesos definidos de modo\n",
    "# arbitrário por você. Ilustre dois casos utilizando as seguintes funções de ativação:\n",
    "# função de Heaviside e a função ReLU. Diga se os pesos utilizados foram os mesmos\n",
    "# quando houve alteração da função de ativação.\n",
    "\n",
    "!pip install numpy"
   ]
  },
  {
   "cell_type": "code",
   "execution_count": null,
   "id": "cb90d522",
   "metadata": {},
   "outputs": [
    {
     "name": "stdout",
     "output_type": "stream",
     "text": [
      "Usando função de ativação: heaviside\n",
      "Entrada: [0 0] -> Soma: -1.50, Saída: 0, Esperado: 0\n",
      "Entrada: [0 1] -> Soma: -0.50, Saída: 0, Esperado: 0\n",
      "Entrada: [1 0] -> Soma: -0.50, Saída: 0, Esperado: 0\n",
      "Entrada: [1 1] -> Soma: 0.50, Saída: 1, Esperado: 1\n",
      "\n",
      "Usando função de ativação: relu\n",
      "Entrada: [0 0] -> Soma: -1.50, Saída: 0, Esperado: 0\n",
      "Entrada: [0 1] -> Soma: -0.50, Saída: 0, Esperado: 0\n",
      "Entrada: [1 0] -> Soma: -0.50, Saída: 0, Esperado: 0\n",
      "Entrada: [1 1] -> Soma: 0.50, Saída: 0.5, Esperado: 1\n",
      "\n"
     ]
    },
    {
     "ename": "",
     "evalue": "",
     "output_type": "error",
     "traceback": [
      "\u001b[1;31mnotebook controller is DISPOSED. \n",
      "\u001b[1;31mConsulte o <a href='command:jupyter.viewOutput'>log</a> do Jupyter para obter mais detalhes."
     ]
    }
   ],
   "source": [
    "import numpy as np\n",
    "\n",
    "# Entradas (x1, x2) e bias (incluso como 1)\n",
    "entradas = np.array([\n",
    "    [0, 0, 1],  # x1, x2, bias\n",
    "    [0, 1, 1],\n",
    "    [1, 0, 1],\n",
    "    [1, 1, 1]\n",
    "])\n",
    "\n",
    "# Saídas esperadas para o AND\n",
    "saidas_esperadas = [0, 0, 0, 1]\n",
    "\n",
    "# Pesos arbitrários escolhidos (w1, w2, bias)\n",
    "pesos = np.array([1, 1, -1.5])  # w1 = 1, w2 = 1, bias = -1.5\n",
    "\n",
    "### Função de ativação: Heaviside (degrau)\n",
    "def heaviside(x):\n",
    "    return 1 if x >= 0 else 0\n",
    "\n",
    "### Função de ativação: ReLU\n",
    "def relu(x):\n",
    "    return max(0, x)\n",
    "\n",
    "### Função que executa a rede com uma função de ativação qualquer\n",
    "def rede_and(entradas, pesos, ativacao):\n",
    "    print(f\"Usando função de ativação: {ativacao.__name__}\")\n",
    "    for entrada, saida_esperada in zip(entradas, saidas_esperadas):\n",
    "        soma = np.dot(entrada, pesos)\n",
    "        saida = ativacao(soma)\n",
    "        print(f\"Entrada: {entrada[:2]} -> Soma: {soma:.2f}, Saída: {saida}, Esperado: {saida_esperada}\")\n",
    "    print()\n",
    "\n",
    "# Teste com Heaviside\n",
    "rede_and(entradas, pesos, heaviside)\n",
    "\n",
    "# Teste com ReLU\n",
    "rede_and(entradas, pesos, relu)\n"
   ]
  }
 ],
 "metadata": {
  "kernelspec": {
   "display_name": "venv",
   "language": "python",
   "name": "python3"
  },
  "language_info": {
   "codemirror_mode": {
    "name": "ipython",
    "version": 3
   },
   "file_extension": ".py",
   "mimetype": "text/x-python",
   "name": "python",
   "nbconvert_exporter": "python",
   "pygments_lexer": "ipython3",
   "version": "3.12.3"
  }
 },
 "nbformat": 4,
 "nbformat_minor": 5
}
